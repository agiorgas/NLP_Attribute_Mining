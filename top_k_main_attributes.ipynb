{
 "cells": [
  {
   "cell_type": "markdown",
   "id": "167c5ff1",
   "metadata": {},
   "source": [
    "# Top k main Attributes"
   ]
  },
  {
   "cell_type": "markdown",
   "id": "d1e3ca77",
   "metadata": {},
   "source": [
    "# Installations"
   ]
  },
  {
   "cell_type": "code",
   "execution_count": null,
   "id": "2f6a2210",
   "metadata": {},
   "outputs": [],
   "source": [
    "!pip install spacy \n",
    "!python -m spacy download en_core_web_lg"
   ]
  },
  {
   "cell_type": "markdown",
   "id": "8c28b1b1",
   "metadata": {},
   "source": [
    "# Import Libraries"
   ]
  },
  {
   "cell_type": "code",
   "execution_count": null,
   "id": "b24f8e79",
   "metadata": {},
   "outputs": [],
   "source": [
    "import spacy\n",
    "import os\n",
    "import csv\n",
    "import nltk \n",
    "from nltk.tokenize import sent_tokenize,word_tokenize\n",
    "from nltk.corpus import stopwords\n",
    "from collections import defaultdict"
   ]
  },
  {
   "cell_type": "code",
   "execution_count": null,
   "id": "c9a28f33",
   "metadata": {},
   "outputs": [],
   "source": [
    "nltk.download()"
   ]
  },
  {
   "cell_type": "markdown",
   "id": "67ff45b9",
   "metadata": {},
   "source": [
    "# Functions"
   ]
  },
  {
   "cell_type": "code",
   "execution_count": null,
   "id": "2fa5d3f2",
   "metadata": {},
   "outputs": [],
   "source": [
    "def load_tweets(tweets_csv_path:str, tweets_min_char_threshold:int\n",
    "    ) -> list: \n",
    "    \"\"\"\n",
    "    Loads the reviews from the given input folder.\n",
    "    The third parameter is the minimium acceptable number of chars in a review\n",
    "    \"\"\"\n",
    "    tweets = list() \n",
    "    \n",
    "    with open(tweets_csv_path,encoding='utf8') as fin: # open reviews file \n",
    "        reader=csv.reader(fin) # create a csv reader \n",
    "        next(reader)#skip header\n",
    "        for row in reader:\n",
    "            if len(row[0]) >= tweets_min_char_threshold:\n",
    "                tweets.append(row[0])\n",
    "                \n",
    "    return tweets\n",
    "    \n",
    "def tokenize_tweets(tweet_list: str, nlp: spacy.lang.en.English\n",
    "    ) -> list:\n",
    "    \"\"\"\n",
    "    Loads the reviews from the given input folder.\n",
    "    The third parameter is the minimium acceptable number of chars in a tweet\n",
    "    \"\"\"\n",
    "    processed_tweet_list = list()\n",
    "    for tweet in tweet_list:\n",
    "        processed_tweet = list() # holds the processed version of the tweet\n",
    "\n",
    "        sentences=sent_tokenize(tweet) # split the tweet into sentences\n",
    "        for sentence in sentences: # for each sentence\n",
    "            processed_tweet.append(nlp(sentence)) # process sentence and add it to the tweet list\n",
    "        \n",
    "        processed_tweet_list.append(processed_tweet)\n",
    "    return processed_tweet_list\n",
    "\n",
    "def get_aspects(tweet_list: list, aspect_num: int\n",
    "    ) -> list:\n",
    "    \"\"\"\n",
    "    Loads the reviews from the given input folder.\n",
    "    The third parameter is the minimium acceptable number of chars in a review\n",
    "    \"\"\"\n",
    "    stopLex=set(stopwords.words('english'))# load stopwords\n",
    "\n",
    "    freq=defaultdict(int)\n",
    "         \n",
    "    for tweet in tweet_list: \n",
    "        for sentence in tweet: # for each sentence\n",
    "            for token in sentence: # for each token (we are not working with simple terms any more)\n",
    "\n",
    "                term=token.text.lower()\n",
    "\n",
    "                #ignore stopwords, short words, and non-nouns\n",
    "                if  (term not in stopLex) and (len(term)>=3) and (token.pos_=='NOUN'):\n",
    "                    freq[term]+=1\n",
    "              \n",
    "    # sort terms by freq in descending order and keep the top k\n",
    "    my_top=sorted(freq.items(),key=lambda x:x[1], reverse=True)[:aspect_num]\n",
    "        \n",
    "    return my_top"
   ]
  },
  {
   "cell_type": "code",
   "execution_count": null,
   "id": "0379933e",
   "metadata": {},
   "outputs": [],
   "source": [
    "tweets_csv_path = \"ENTER YOUR CSV FILE\"\n",
    "nlp = spacy.load(\"en_core_web_lg\")\n",
    "tweets_min_char_threshold = 10 \n",
    "aspect_num = 60 #input the number you want"
   ]
  },
  {
   "cell_type": "code",
   "execution_count": null,
   "id": "e79e9a8f",
   "metadata": {},
   "outputs": [],
   "source": [
    "tweets_list = load_tweets(tweets_csv_path=tweets_csv_path,tweets_min_char_threshold=tweets_min_char_threshold)\n",
    "token_list = tokenize_tweets(tweet_list=tweets_list, nlp=nlp)\n",
    "aspect_list = get_aspects(tweet_list=token_list, aspect_num=aspect_num)"
   ]
  },
  {
   "cell_type": "markdown",
   "id": "5885706c",
   "metadata": {},
   "source": [
    "## COLLECTING TOP FEATURES"
   ]
  },
  {
   "cell_type": "code",
   "execution_count": null,
   "id": "038df360",
   "metadata": {},
   "outputs": [],
   "source": [
    "aspect_list"
   ]
  },
  {
   "cell_type": "code",
   "execution_count": null,
   "id": "1da51140",
   "metadata": {},
   "outputs": [],
   "source": []
  }
 ],
 "metadata": {
  "kernelspec": {
   "display_name": "Python 3 (ipykernel)",
   "language": "python",
   "name": "python3"
  },
  "language_info": {
   "codemirror_mode": {
    "name": "ipython",
    "version": 3
   },
   "file_extension": ".py",
   "mimetype": "text/x-python",
   "name": "python",
   "nbconvert_exporter": "python",
   "pygments_lexer": "ipython3",
   "version": "3.9.13"
  }
 },
 "nbformat": 4,
 "nbformat_minor": 5
}
